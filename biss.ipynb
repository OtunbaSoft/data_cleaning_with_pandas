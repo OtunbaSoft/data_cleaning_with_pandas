{
 "cells": [
  {
   "cell_type": "code",
   "execution_count": 253,
   "metadata": {},
   "outputs": [],
   "source": [
    "import pandas as pd"
   ]
  },
  {
   "cell_type": "markdown",
   "metadata": {},
   "source": [
    "##Extraction"
   ]
  },
  {
   "cell_type": "code",
   "execution_count": 254,
   "metadata": {},
   "outputs": [],
   "source": [
    "travel_data = pd.read_csv('https://drive.google.com/uc?id=1muwnik-uFGTKBdHmcQN5z68rD7qmdG-b')"
   ]
  },
  {
   "cell_type": "code",
   "execution_count": 255,
   "metadata": {},
   "outputs": [
    {
     "data": {
      "text/plain": [
       "(418, 6)"
      ]
     },
     "execution_count": 255,
     "metadata": {},
     "output_type": "execute_result"
    }
   ],
   "source": [
    "travel_data.shape"
   ]
  },
  {
   "cell_type": "code",
   "execution_count": 256,
   "metadata": {},
   "outputs": [
    {
     "name": "stdout",
     "output_type": "stream",
     "text": [
      "<class 'pandas.core.frame.DataFrame'>\n",
      "RangeIndex: 418 entries, 0 to 417\n",
      "Data columns (total 6 columns):\n",
      " #   Column                 Non-Null Count  Dtype  \n",
      "---  ------                 --------------  -----  \n",
      " 0   Employee               418 non-null    object \n",
      " 1   Destination            418 non-null    object \n",
      " 2   Travel Start Date      418 non-null    object \n",
      " 3   Travel End Date        418 non-null    object \n",
      " 4   Actual Total Expenses  418 non-null    float64\n",
      " 5   Purpose Of Travel      415 non-null    object \n",
      "dtypes: float64(1), object(5)\n",
      "memory usage: 19.7+ KB\n"
     ]
    }
   ],
   "source": [
    "travel_data.info()"
   ]
  },
  {
   "cell_type": "code",
   "execution_count": 257,
   "metadata": {},
   "outputs": [
    {
     "data": {
      "text/html": [
       "<div>\n",
       "<style scoped>\n",
       "    .dataframe tbody tr th:only-of-type {\n",
       "        vertical-align: middle;\n",
       "    }\n",
       "\n",
       "    .dataframe tbody tr th {\n",
       "        vertical-align: top;\n",
       "    }\n",
       "\n",
       "    .dataframe thead th {\n",
       "        text-align: right;\n",
       "    }\n",
       "</style>\n",
       "<table border=\"1\" class=\"dataframe\">\n",
       "  <thead>\n",
       "    <tr style=\"text-align: right;\">\n",
       "      <th></th>\n",
       "      <th>Employee</th>\n",
       "      <th>Destination</th>\n",
       "      <th>Travel Start Date</th>\n",
       "      <th>Travel End Date</th>\n",
       "      <th>Actual Total Expenses</th>\n",
       "      <th>Purpose Of Travel</th>\n",
       "    </tr>\n",
       "  </thead>\n",
       "  <tbody>\n",
       "    <tr>\n",
       "      <th>0</th>\n",
       "      <td>Aaron Salter</td>\n",
       "      <td>OCEAN CITY, MD</td>\n",
       "      <td>2017-05-31</td>\n",
       "      <td>2017-06-02</td>\n",
       "      <td>644.10</td>\n",
       "      <td>Conference</td>\n",
       "    </tr>\n",
       "    <tr>\n",
       "      <th>1</th>\n",
       "      <td>Abigail Ratnofsky</td>\n",
       "      <td>SAN DIEGO, CA</td>\n",
       "      <td>2016-01-24</td>\n",
       "      <td>2016-01-29</td>\n",
       "      <td>2962.70</td>\n",
       "      <td>Conference</td>\n",
       "    </tr>\n",
       "    <tr>\n",
       "      <th>2</th>\n",
       "      <td>Adam Kisthardt</td>\n",
       "      <td>ORLANDO, FL</td>\n",
       "      <td>2018-10-04</td>\n",
       "      <td>2018-10-09</td>\n",
       "      <td>1891.19</td>\n",
       "      <td>Conference</td>\n",
       "    </tr>\n",
       "    <tr>\n",
       "      <th>3</th>\n",
       "      <td>Adam P. Jones</td>\n",
       "      <td>OCEAN CITY, MD</td>\n",
       "      <td>2016-06-19</td>\n",
       "      <td>2016-06-21</td>\n",
       "      <td>324.36</td>\n",
       "      <td>Conference</td>\n",
       "    </tr>\n",
       "  </tbody>\n",
       "</table>\n",
       "</div>"
      ],
      "text/plain": [
       "            Employee     Destination Travel Start Date Travel End Date  \\\n",
       "0       Aaron Salter  OCEAN CITY, MD        2017-05-31      2017-06-02   \n",
       "1  Abigail Ratnofsky   SAN DIEGO, CA        2016-01-24      2016-01-29   \n",
       "2     Adam Kisthardt     ORLANDO, FL        2018-10-04      2018-10-09   \n",
       "3      Adam P. Jones  OCEAN CITY, MD        2016-06-19      2016-06-21   \n",
       "\n",
       "   Actual Total Expenses Purpose Of Travel  \n",
       "0                 644.10        Conference  \n",
       "1                2962.70        Conference  \n",
       "2                1891.19        Conference  \n",
       "3                 324.36        Conference  "
      ]
     },
     "execution_count": 257,
     "metadata": {},
     "output_type": "execute_result"
    }
   ],
   "source": [
    "travel_data.head(4)"
   ]
  },
  {
   "cell_type": "code",
   "execution_count": 258,
   "metadata": {},
   "outputs": [
    {
     "data": {
      "text/plain": [
       "<bound method NDFrame.describe of               Employee     Destination Travel Start Date Travel End Date  \\\n",
       "0         Aaron Salter  OCEAN CITY, MD        2017-05-31      2017-06-02   \n",
       "1    Abigail Ratnofsky   SAN DIEGO, CA        2016-01-24      2016-01-29   \n",
       "2       Adam Kisthardt     ORLANDO, FL        2018-10-04      2018-10-09   \n",
       "3        Adam P. Jones  OCEAN CITY, MD        2016-06-19      2016-06-21   \n",
       "4          Alan Butsch   SAN DIEGO, CA        2019-11-19      2019-11-22   \n",
       "..                 ...             ...               ...             ...   \n",
       "413     Warren Jensen!  OCEAN CITY, MD   2017-11-06           2017-11-09   \n",
       "414        Warp Jensen  OCEAN CITY, MD        2019-03-25      2019-03-26   \n",
       "415     Whitney Kujawa  OCEAN CITY, MD        2017-11-06      2017-11-09   \n",
       "416      William Kinna   CHARLOTTE, NC        2017-05-21      2017-05-26   \n",
       "417             Xin Qi  OCEAN CITY, MD        2019-08-13      2019-08-17   \n",
       "\n",
       "     Actual Total Expenses Purpose Of Travel  \n",
       "0                   644.10        Conference  \n",
       "1                  2962.70        Conference  \n",
       "2                  1891.19        Conference  \n",
       "3                   324.36        Conference  \n",
       "4                  2141.51        Conference  \n",
       "..                     ...               ...  \n",
       "413                 502.45        Conference  \n",
       "414                  78.00        Conference  \n",
       "415                 567.00        Conference  \n",
       "416                2163.67        Conference  \n",
       "417                2107.51        Conference  \n",
       "\n",
       "[418 rows x 6 columns]>"
      ]
     },
     "execution_count": 258,
     "metadata": {},
     "output_type": "execute_result"
    }
   ],
   "source": [
    "travel_data.describe"
   ]
  },
  {
   "cell_type": "code",
   "execution_count": 259,
   "metadata": {},
   "outputs": [],
   "source": [
    "travel_data = travel_data.drop_duplicates()"
   ]
  },
  {
   "cell_type": "code",
   "execution_count": 260,
   "metadata": {},
   "outputs": [
    {
     "data": {
      "text/plain": [
       "(418, 6)"
      ]
     },
     "execution_count": 260,
     "metadata": {},
     "output_type": "execute_result"
    }
   ],
   "source": [
    "travel_data.shape"
   ]
  },
  {
   "cell_type": "markdown",
   "metadata": {},
   "source": [
    "## Cleaning"
   ]
  },
  {
   "cell_type": "code",
   "execution_count": 261,
   "metadata": {},
   "outputs": [],
   "source": [
    "travel_dataset = travel_data.copy()"
   ]
  },
  {
   "cell_type": "code",
   "execution_count": 262,
   "metadata": {},
   "outputs": [
    {
     "data": {
      "text/plain": [
       "pandas.core.series.Series"
      ]
     },
     "execution_count": 262,
     "metadata": {},
     "output_type": "execute_result"
    }
   ],
   "source": [
    "type(travel_dataset['Travel Start Date'])"
   ]
  },
  {
   "cell_type": "code",
   "execution_count": 263,
   "metadata": {},
   "outputs": [],
   "source": [
    "# function to remove white space\n",
    "def remove_white_space(text):\n",
    "    if type(text) == str:\n",
    "        return  text.strip()\n",
    "    return text"
   ]
  },
  {
   "cell_type": "code",
   "execution_count": 264,
   "metadata": {},
   "outputs": [],
   "source": [
    "# applying the remove white space fxn\n",
    "travel_dataset['Travel Start Date'] = travel_dataset['Travel Start Date'].apply(remove_white_space)\n",
    "\n",
    "travel_dataset['Travel End Date'] = travel_dataset['Travel End Date'].apply(remove_white_space)"
   ]
  },
  {
   "cell_type": "code",
   "execution_count": 265,
   "metadata": {},
   "outputs": [],
   "source": [
    "# converting to datetime\n",
    "travel_dataset['Travel Start Date'] = pd.to_datetime(travel_dataset['Travel Start Date'])\n",
    "travel_dataset['Travel End Date'] = pd.to_datetime(travel_dataset['Travel End Date'])"
   ]
  },
  {
   "cell_type": "code",
   "execution_count": 266,
   "metadata": {},
   "outputs": [
    {
     "data": {
      "text/html": [
       "<div>\n",
       "<style scoped>\n",
       "    .dataframe tbody tr th:only-of-type {\n",
       "        vertical-align: middle;\n",
       "    }\n",
       "\n",
       "    .dataframe tbody tr th {\n",
       "        vertical-align: top;\n",
       "    }\n",
       "\n",
       "    .dataframe thead th {\n",
       "        text-align: right;\n",
       "    }\n",
       "</style>\n",
       "<table border=\"1\" class=\"dataframe\">\n",
       "  <thead>\n",
       "    <tr style=\"text-align: right;\">\n",
       "      <th></th>\n",
       "      <th>Employee</th>\n",
       "      <th>Destination</th>\n",
       "      <th>Travel Start Date</th>\n",
       "      <th>Travel End Date</th>\n",
       "      <th>Actual Total Expenses</th>\n",
       "      <th>Purpose Of Travel</th>\n",
       "    </tr>\n",
       "  </thead>\n",
       "  <tbody>\n",
       "    <tr>\n",
       "      <th>126</th>\n",
       "      <td>Gaila Compton</td>\n",
       "      <td>OCEAN CITY, MD</td>\n",
       "      <td>2019-09-25</td>\n",
       "      <td>2019-09-27</td>\n",
       "      <td>690.00</td>\n",
       "      <td>NaN</td>\n",
       "    </tr>\n",
       "    <tr>\n",
       "      <th>274</th>\n",
       "      <td>Mark Sheelor</td>\n",
       "      <td>LAS VEGAS, NV</td>\n",
       "      <td>2017-03-06</td>\n",
       "      <td>2017-03-08</td>\n",
       "      <td>1411.34</td>\n",
       "      <td>NaN</td>\n",
       "    </tr>\n",
       "    <tr>\n",
       "      <th>385</th>\n",
       "      <td>Tamara Maldonado</td>\n",
       "      <td>OCEAN CITY, MD</td>\n",
       "      <td>2017-10-19</td>\n",
       "      <td>2017-10-20</td>\n",
       "      <td>73.50</td>\n",
       "      <td>NaN</td>\n",
       "    </tr>\n",
       "  </tbody>\n",
       "</table>\n",
       "</div>"
      ],
      "text/plain": [
       "             Employee     Destination Travel Start Date Travel End Date  \\\n",
       "126     Gaila Compton  OCEAN CITY, MD        2019-09-25      2019-09-27   \n",
       "274      Mark Sheelor   LAS VEGAS, NV        2017-03-06      2017-03-08   \n",
       "385  Tamara Maldonado  OCEAN CITY, MD        2017-10-19      2017-10-20   \n",
       "\n",
       "     Actual Total Expenses Purpose Of Travel  \n",
       "126                 690.00               NaN  \n",
       "274                1411.34               NaN  \n",
       "385                  73.50               NaN  "
      ]
     },
     "execution_count": 266,
     "metadata": {},
     "output_type": "execute_result"
    }
   ],
   "source": [
    "travel_dataset[travel_dataset['Purpose Of Travel'].isna()]"
   ]
  },
  {
   "cell_type": "code",
   "execution_count": 267,
   "metadata": {},
   "outputs": [],
   "source": [
    "travel_dataset['Purpose Of Travel']= travel_dataset['Purpose Of Travel'].fillna('Not Provided')"
   ]
  },
  {
   "cell_type": "code",
   "execution_count": 268,
   "metadata": {},
   "outputs": [
    {
     "name": "stdout",
     "output_type": "stream",
     "text": [
      "<class 'pandas.core.frame.DataFrame'>\n",
      "RangeIndex: 418 entries, 0 to 417\n",
      "Data columns (total 6 columns):\n",
      " #   Column                 Non-Null Count  Dtype         \n",
      "---  ------                 --------------  -----         \n",
      " 0   Employee               418 non-null    object        \n",
      " 1   Destination            418 non-null    object        \n",
      " 2   Travel Start Date      418 non-null    datetime64[ns]\n",
      " 3   Travel End Date        418 non-null    datetime64[ns]\n",
      " 4   Actual Total Expenses  418 non-null    float64       \n",
      " 5   Purpose Of Travel      418 non-null    object        \n",
      "dtypes: datetime64[ns](2), float64(1), object(3)\n",
      "memory usage: 19.7+ KB\n"
     ]
    }
   ],
   "source": [
    "travel_dataset.info()"
   ]
  },
  {
   "cell_type": "code",
   "execution_count": 269,
   "metadata": {},
   "outputs": [],
   "source": [
    "# extracting state and city from destination\n",
    "def extract_state(text):\n",
    "    result = text.lower()\n",
    "    result = text.split(',')[1]\n",
    "    return result\n",
    "\n",
    "def extract_city(text):\n",
    "    result = text.lower()\n",
    "    result = text.split(',')[0]\n",
    "    return result"
   ]
  },
  {
   "cell_type": "code",
   "execution_count": 270,
   "metadata": {},
   "outputs": [],
   "source": [
    "travel_dataset['state'] = travel_dataset['Destination'].apply(extract_state)\n",
    "travel_dataset['city'] = travel_dataset['Destination'].apply(extract_city)"
   ]
  },
  {
   "cell_type": "code",
   "execution_count": 271,
   "metadata": {},
   "outputs": [
    {
     "data": {
      "text/html": [
       "<div>\n",
       "<style scoped>\n",
       "    .dataframe tbody tr th:only-of-type {\n",
       "        vertical-align: middle;\n",
       "    }\n",
       "\n",
       "    .dataframe tbody tr th {\n",
       "        vertical-align: top;\n",
       "    }\n",
       "\n",
       "    .dataframe thead th {\n",
       "        text-align: right;\n",
       "    }\n",
       "</style>\n",
       "<table border=\"1\" class=\"dataframe\">\n",
       "  <thead>\n",
       "    <tr style=\"text-align: right;\">\n",
       "      <th></th>\n",
       "      <th>Employee</th>\n",
       "      <th>Destination</th>\n",
       "      <th>Travel Start Date</th>\n",
       "      <th>Travel End Date</th>\n",
       "      <th>Actual Total Expenses</th>\n",
       "      <th>Purpose Of Travel</th>\n",
       "      <th>state</th>\n",
       "      <th>city</th>\n",
       "    </tr>\n",
       "  </thead>\n",
       "  <tbody>\n",
       "    <tr>\n",
       "      <th>0</th>\n",
       "      <td>Aaron Salter</td>\n",
       "      <td>OCEAN CITY, MD</td>\n",
       "      <td>2017-05-31</td>\n",
       "      <td>2017-06-02</td>\n",
       "      <td>644.10</td>\n",
       "      <td>Conference</td>\n",
       "      <td>MD</td>\n",
       "      <td>OCEAN CITY</td>\n",
       "    </tr>\n",
       "    <tr>\n",
       "      <th>1</th>\n",
       "      <td>Abigail Ratnofsky</td>\n",
       "      <td>SAN DIEGO, CA</td>\n",
       "      <td>2016-01-24</td>\n",
       "      <td>2016-01-29</td>\n",
       "      <td>2962.70</td>\n",
       "      <td>Conference</td>\n",
       "      <td>CA</td>\n",
       "      <td>SAN DIEGO</td>\n",
       "    </tr>\n",
       "    <tr>\n",
       "      <th>2</th>\n",
       "      <td>Adam Kisthardt</td>\n",
       "      <td>ORLANDO, FL</td>\n",
       "      <td>2018-10-04</td>\n",
       "      <td>2018-10-09</td>\n",
       "      <td>1891.19</td>\n",
       "      <td>Conference</td>\n",
       "      <td>FL</td>\n",
       "      <td>ORLANDO</td>\n",
       "    </tr>\n",
       "    <tr>\n",
       "      <th>3</th>\n",
       "      <td>Adam P. Jones</td>\n",
       "      <td>OCEAN CITY, MD</td>\n",
       "      <td>2016-06-19</td>\n",
       "      <td>2016-06-21</td>\n",
       "      <td>324.36</td>\n",
       "      <td>Conference</td>\n",
       "      <td>MD</td>\n",
       "      <td>OCEAN CITY</td>\n",
       "    </tr>\n",
       "  </tbody>\n",
       "</table>\n",
       "</div>"
      ],
      "text/plain": [
       "            Employee     Destination Travel Start Date Travel End Date  \\\n",
       "0       Aaron Salter  OCEAN CITY, MD        2017-05-31      2017-06-02   \n",
       "1  Abigail Ratnofsky   SAN DIEGO, CA        2016-01-24      2016-01-29   \n",
       "2     Adam Kisthardt     ORLANDO, FL        2018-10-04      2018-10-09   \n",
       "3      Adam P. Jones  OCEAN CITY, MD        2016-06-19      2016-06-21   \n",
       "\n",
       "   Actual Total Expenses Purpose Of Travel state        city  \n",
       "0                 644.10        Conference    MD  OCEAN CITY  \n",
       "1                2962.70        Conference    CA   SAN DIEGO  \n",
       "2                1891.19        Conference    FL     ORLANDO  \n",
       "3                 324.36        Conference    MD  OCEAN CITY  "
      ]
     },
     "execution_count": 271,
     "metadata": {},
     "output_type": "execute_result"
    }
   ],
   "source": [
    "travel_dataset.head(4)"
   ]
  },
  {
   "cell_type": "code",
   "execution_count": 272,
   "metadata": {},
   "outputs": [],
   "source": [
    "# extracting first name and last name from employee column\n",
    "def extract_fname(text):\n",
    "    result = text.capitalize()\n",
    "    result = text.split(' ')[0]\n",
    "    return result\n",
    "\n",
    "def extract_lname(text):\n",
    "    result = text.capitalize()\n",
    "    result = text.split(' ')[1]\n",
    "    return result"
   ]
  },
  {
   "cell_type": "code",
   "execution_count": 273,
   "metadata": {},
   "outputs": [],
   "source": [
    "travel_dataset['first_name'] = travel_dataset['Employee'].apply(extract_fname)\n",
    "travel_dataset['last_name'] = travel_dataset['Employee'].apply(extract_lname)"
   ]
  },
  {
   "cell_type": "code",
   "execution_count": 274,
   "metadata": {},
   "outputs": [
    {
     "data": {
      "text/html": [
       "<div>\n",
       "<style scoped>\n",
       "    .dataframe tbody tr th:only-of-type {\n",
       "        vertical-align: middle;\n",
       "    }\n",
       "\n",
       "    .dataframe tbody tr th {\n",
       "        vertical-align: top;\n",
       "    }\n",
       "\n",
       "    .dataframe thead th {\n",
       "        text-align: right;\n",
       "    }\n",
       "</style>\n",
       "<table border=\"1\" class=\"dataframe\">\n",
       "  <thead>\n",
       "    <tr style=\"text-align: right;\">\n",
       "      <th></th>\n",
       "      <th>Employee</th>\n",
       "      <th>Destination</th>\n",
       "      <th>Travel Start Date</th>\n",
       "      <th>Travel End Date</th>\n",
       "      <th>Actual Total Expenses</th>\n",
       "      <th>Purpose Of Travel</th>\n",
       "      <th>state</th>\n",
       "      <th>city</th>\n",
       "      <th>first_name</th>\n",
       "      <th>last_name</th>\n",
       "    </tr>\n",
       "  </thead>\n",
       "  <tbody>\n",
       "    <tr>\n",
       "      <th>0</th>\n",
       "      <td>Aaron Salter</td>\n",
       "      <td>OCEAN CITY, MD</td>\n",
       "      <td>2017-05-31</td>\n",
       "      <td>2017-06-02</td>\n",
       "      <td>644.10</td>\n",
       "      <td>Conference</td>\n",
       "      <td>MD</td>\n",
       "      <td>OCEAN CITY</td>\n",
       "      <td>Aaron</td>\n",
       "      <td>Salter</td>\n",
       "    </tr>\n",
       "    <tr>\n",
       "      <th>1</th>\n",
       "      <td>Abigail Ratnofsky</td>\n",
       "      <td>SAN DIEGO, CA</td>\n",
       "      <td>2016-01-24</td>\n",
       "      <td>2016-01-29</td>\n",
       "      <td>2962.70</td>\n",
       "      <td>Conference</td>\n",
       "      <td>CA</td>\n",
       "      <td>SAN DIEGO</td>\n",
       "      <td>Abigail</td>\n",
       "      <td>Ratnofsky</td>\n",
       "    </tr>\n",
       "    <tr>\n",
       "      <th>2</th>\n",
       "      <td>Adam Kisthardt</td>\n",
       "      <td>ORLANDO, FL</td>\n",
       "      <td>2018-10-04</td>\n",
       "      <td>2018-10-09</td>\n",
       "      <td>1891.19</td>\n",
       "      <td>Conference</td>\n",
       "      <td>FL</td>\n",
       "      <td>ORLANDO</td>\n",
       "      <td>Adam</td>\n",
       "      <td>Kisthardt</td>\n",
       "    </tr>\n",
       "    <tr>\n",
       "      <th>3</th>\n",
       "      <td>Adam P. Jones</td>\n",
       "      <td>OCEAN CITY, MD</td>\n",
       "      <td>2016-06-19</td>\n",
       "      <td>2016-06-21</td>\n",
       "      <td>324.36</td>\n",
       "      <td>Conference</td>\n",
       "      <td>MD</td>\n",
       "      <td>OCEAN CITY</td>\n",
       "      <td>Adam</td>\n",
       "      <td>P.</td>\n",
       "    </tr>\n",
       "    <tr>\n",
       "      <th>4</th>\n",
       "      <td>Alan Butsch</td>\n",
       "      <td>SAN DIEGO, CA</td>\n",
       "      <td>2019-11-19</td>\n",
       "      <td>2019-11-22</td>\n",
       "      <td>2141.51</td>\n",
       "      <td>Conference</td>\n",
       "      <td>CA</td>\n",
       "      <td>SAN DIEGO</td>\n",
       "      <td>Alan</td>\n",
       "      <td>Butsch</td>\n",
       "    </tr>\n",
       "  </tbody>\n",
       "</table>\n",
       "</div>"
      ],
      "text/plain": [
       "            Employee     Destination Travel Start Date Travel End Date  \\\n",
       "0       Aaron Salter  OCEAN CITY, MD        2017-05-31      2017-06-02   \n",
       "1  Abigail Ratnofsky   SAN DIEGO, CA        2016-01-24      2016-01-29   \n",
       "2     Adam Kisthardt     ORLANDO, FL        2018-10-04      2018-10-09   \n",
       "3      Adam P. Jones  OCEAN CITY, MD        2016-06-19      2016-06-21   \n",
       "4        Alan Butsch   SAN DIEGO, CA        2019-11-19      2019-11-22   \n",
       "\n",
       "   Actual Total Expenses Purpose Of Travel state        city first_name  \\\n",
       "0                 644.10        Conference    MD  OCEAN CITY      Aaron   \n",
       "1                2962.70        Conference    CA   SAN DIEGO    Abigail   \n",
       "2                1891.19        Conference    FL     ORLANDO       Adam   \n",
       "3                 324.36        Conference    MD  OCEAN CITY       Adam   \n",
       "4                2141.51        Conference    CA   SAN DIEGO       Alan   \n",
       "\n",
       "   last_name  \n",
       "0     Salter  \n",
       "1  Ratnofsky  \n",
       "2  Kisthardt  \n",
       "3         P.  \n",
       "4     Butsch  "
      ]
     },
     "execution_count": 274,
     "metadata": {},
     "output_type": "execute_result"
    }
   ],
   "source": [
    "travel_dataset.head()"
   ]
  },
  {
   "cell_type": "code",
   "execution_count": 275,
   "metadata": {},
   "outputs": [],
   "source": [
    "columns = ['Employee', 'first_name', 'last_name', 'state', 'city', 'Travel Start Date', 'Travel End Date', 'Actual Total Expenses', 'Purpose Of Travel']\n",
    "\n",
    "final_result = travel_dataset[columns].copy()"
   ]
  },
  {
   "cell_type": "code",
   "execution_count": 276,
   "metadata": {},
   "outputs": [],
   "source": [
    "final_result.to_csv('cleaned_travel_dataset.csv')"
   ]
  }
 ],
 "metadata": {
  "kernelspec": {
   "display_name": "Python 3",
   "language": "python",
   "name": "python3"
  },
  "language_info": {
   "codemirror_mode": {
    "name": "ipython",
    "version": 3
   },
   "file_extension": ".py",
   "mimetype": "text/x-python",
   "name": "python",
   "nbconvert_exporter": "python",
   "pygments_lexer": "ipython3",
   "version": "3.10.11"
  },
  "orig_nbformat": 4
 },
 "nbformat": 4,
 "nbformat_minor": 2
}
